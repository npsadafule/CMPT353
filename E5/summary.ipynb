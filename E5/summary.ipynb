{
 "cells": [
  {
   "cell_type": "code",
   "execution_count": 1,
   "id": "0231e9bf-15ec-49ad-aa4b-44eee2562022",
   "metadata": {},
   "outputs": [],
   "source": [
    "import pandas as pd"
   ]
  },
  {
   "cell_type": "code",
   "execution_count": 2,
   "id": "44c42f86-99d1-4dd5-ae9a-d6769bcca0e4",
   "metadata": {},
   "outputs": [],
   "source": [
    "#List of dataset file paths\n",
    "file_paths = [\"data-1.csv\", \"data-2.csv\", \"data-3.csv\", \"data-4.csv\", \"data-5.csv\", \"data-6.csv\"]"
   ]
  },
  {
   "cell_type": "code",
   "execution_count": 3,
   "id": "c423f123-5884-473f-b93d-90395dc57381",
   "metadata": {},
   "outputs": [],
   "source": [
    "# Function to calculate summary statistics\n",
    "def calculate_summary_stats(df):\n",
    "    return {\n",
    "        'mean of x': df['x'].mean(),\n",
    "        'mean of y': df['y'].mean(),\n",
    "        'standard deviation of x': df['x'].std(),\n",
    "        'standard deviation of y': df['y'].std(),\n",
    "        'min of x': df['x'].min(),\n",
    "        'max of x': df['x'].max(),\n",
    "        'min of y': df['y'].min(),\n",
    "        'max of y': df['y'].max(),\n",
    "        'correlation between x and y': df['x'].corr(df['y'])\n",
    "    }"
   ]
  },
  {
   "cell_type": "code",
   "execution_count": 4,
   "id": "dc00310b-7ffc-46fd-a7fe-b19c58a3ba73",
   "metadata": {},
   "outputs": [
    {
     "name": "stdout",
     "output_type": "stream",
     "text": [
      "Summary for data-1:\n",
      "mean of x: 8.71769618641382\n",
      "mean of y: 12.522874034702584\n",
      "standard deviation of x: 12.15551723122202\n",
      "standard deviation of y: 6.63996400756785\n",
      "min of x: -22.635877790008944\n",
      "max of x: 35.23705548785129\n",
      "min of y: -2.565087832693213\n",
      "max of y: 27.38415261152477\n",
      "correlation between x and y: 0.9503256954375491\n",
      "\n",
      "\n",
      "Summary for data-2:\n",
      "mean of x: -0.7107871267159573\n",
      "mean of y: -0.7489869764497991\n",
      "standard deviation of x: 11.481583587790734\n",
      "standard deviation of y: 6.257917998755848\n",
      "min of x: -33.2711130771198\n",
      "max of x: 27.6470003722073\n",
      "min of y: -18.621803760419063\n",
      "max of y: 14.14731499231748\n",
      "correlation between x and y: 0.9551531665750371\n",
      "\n",
      "\n",
      "Summary for data-3:\n",
      "mean of x: 0.9689074904200939\n",
      "mean of y: 8.508535236641327\n",
      "standard deviation of x: 2.235557861057969\n",
      "standard deviation of y: 1.1493008110024525\n",
      "min of x: -2.4490643296742807\n",
      "max of x: 4.51888491755363\n",
      "min of y: 6.641734490391763\n",
      "max of y: 10.551871022804317\n",
      "correlation between x and y: 0.9819372646760661\n",
      "\n",
      "\n",
      "Summary for data-4:\n",
      "mean of x: 49.90508614830509\n",
      "mean of y: 18.553836525423726\n",
      "standard deviation of x: 28.50861051988193\n",
      "standard deviation of y: 16.545896442941682\n",
      "min of x: 0.0\n",
      "max of x: 87.3767\n",
      "min of y: 0.0\n",
      "max of y: 44.56504\n",
      "correlation between x and y: -0.08119306735490815\n",
      "\n",
      "\n",
      "Summary for data-5:\n",
      "mean of x: 49.90999357843095\n",
      "mean of y: 18.555524937729086\n",
      "standard deviation of x: 28.500000943801354\n",
      "standard deviation of y: 16.540796301840782\n",
      "min of x: 4.337892453674525\n",
      "max of x: 91.0528633396976\n",
      "min of y: 0.0554975075811517\n",
      "max of y: 49.93419703633311\n",
      "correlation between x and y: -0.0882359898305888\n",
      "\n",
      "\n",
      "Summary for data-6:\n",
      "mean of x: 7.21615517960992\n",
      "mean of y: 7.602215028237295\n",
      "standard deviation of x: 11.921599067458311\n",
      "standard deviation of y: 11.764382455006647\n",
      "min of x: -24.33382075234097\n",
      "max of x: 35.402138910929\n",
      "min of y: -22.9563569970746\n",
      "max of y: 36.07987403078143\n",
      "correlation between x and y: 0.9350685662094909\n",
      "\n",
      "\n"
     ]
    }
   ],
   "source": [
    "# Process each file and display the statistics\n",
    "for i, file in enumerate(file_paths, start=1):\n",
    "    df = pd.read_csv(file)\n",
    "    stats = calculate_summary_stats(df)\n",
    "    print(f\"Summary for data-{i}:\")\n",
    "    for stat, value in stats.items():\n",
    "        print(f\"{stat}: {value}\")\n",
    "    print(\"\\n\")"
   ]
  }
 ],
 "metadata": {
  "kernelspec": {
   "display_name": "Python 3 (ipykernel)",
   "language": "python",
   "name": "python3"
  },
  "language_info": {
   "codemirror_mode": {
    "name": "ipython",
    "version": 3
   },
   "file_extension": ".py",
   "mimetype": "text/x-python",
   "name": "python",
   "nbconvert_exporter": "python",
   "pygments_lexer": "ipython3",
   "version": "3.12.6"
  }
 },
 "nbformat": 4,
 "nbformat_minor": 5
}
